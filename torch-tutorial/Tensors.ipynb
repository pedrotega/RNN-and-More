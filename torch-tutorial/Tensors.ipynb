{
 "cells": [
  {
   "cell_type": "markdown",
   "metadata": {},
   "source": [
    "# Tensors\n",
    "\n",
    "[PyTorch Tensor Tutorial](https://pytorch.org/tutorials/beginner/basics/tensorqs_tutorial.html)"
   ]
  },
  {
   "cell_type": "code",
   "execution_count": 1,
   "metadata": {},
   "outputs": [],
   "source": [
    "import torch\n",
    "import numpy as np"
   ]
  },
  {
   "cell_type": "markdown",
   "metadata": {},
   "source": [
    "* Initializing tensors"
   ]
  },
  {
   "cell_type": "code",
   "execution_count": 2,
   "metadata": {},
   "outputs": [
    {
     "data": {
      "text/plain": [
       "tensor([[1, 2],\n",
       "        [3, 4]])"
      ]
     },
     "execution_count": 2,
     "metadata": {},
     "output_type": "execute_result"
    }
   ],
   "source": [
    "data = [[1,2],[3,4]]\n",
    "x_data = torch.tensor(data)\n",
    "x_data"
   ]
  },
  {
   "cell_type": "code",
   "execution_count": 3,
   "metadata": {},
   "outputs": [
    {
     "data": {
      "text/plain": [
       "tensor([[1, 2],\n",
       "        [3, 4]])"
      ]
     },
     "execution_count": 3,
     "metadata": {},
     "output_type": "execute_result"
    }
   ],
   "source": [
    "np_array = np.array(data)\n",
    "x_np = torch.from_numpy(np_array)\n",
    "x_np"
   ]
  },
  {
   "cell_type": "code",
   "execution_count": 7,
   "metadata": {},
   "outputs": [
    {
     "name": "stdout",
     "output_type": "stream",
     "text": [
      "tensor([[1, 1],\n",
      "        [1, 1]])\n",
      "tensor([[0.5474, 0.7987],\n",
      "        [0.3440, 0.0952]])\n"
     ]
    }
   ],
   "source": [
    "x_ones = torch.ones_like(x_data)\n",
    "print(x_ones)\n",
    "x_rand = torch.rand_like(x_data, dtype=torch.float)\n",
    "print(x_rand)"
   ]
  },
  {
   "cell_type": "code",
   "execution_count": 10,
   "metadata": {},
   "outputs": [
    {
     "name": "stdout",
     "output_type": "stream",
     "text": [
      "tensor([[0.2431, 0.5374, 0.7057],\n",
      "        [0.8792, 0.9421, 0.4673]])\n",
      "tensor([[1., 1., 1.],\n",
      "        [1., 1., 1.]])\n",
      "tensor([[0., 0., 0.],\n",
      "        [0., 0., 0.]])\n"
     ]
    }
   ],
   "source": [
    "# Generating\n",
    "\n",
    "shape = (2,3)\n",
    "rand_tensor = torch.rand(shape)\n",
    "print(rand_tensor)\n",
    "ones_tensor = torch.ones(shape)\n",
    "print(ones_tensor)\n",
    "zeros_tensor = torch.zeros(shape)\n",
    "print(zeros_tensor)"
   ]
  },
  {
   "cell_type": "markdown",
   "metadata": {},
   "source": [
    "* Attributes of a Tensor"
   ]
  },
  {
   "cell_type": "code",
   "execution_count": 12,
   "metadata": {},
   "outputs": [
    {
     "name": "stdout",
     "output_type": "stream",
     "text": [
      "torch.Size([3, 4])\n",
      "torch.float32\n",
      "cpu\n"
     ]
    }
   ],
   "source": [
    "tensor = torch.rand(3,4)\n",
    "\n",
    "print(tensor.shape)\n",
    "print(tensor.dtype)\n",
    "print(tensor.device)"
   ]
  },
  {
   "cell_type": "markdown",
   "metadata": {},
   "source": [
    "* Operations on Tensors"
   ]
  },
  {
   "cell_type": "code",
   "execution_count": 13,
   "metadata": {},
   "outputs": [
    {
     "name": "stdout",
     "output_type": "stream",
     "text": [
      "You're a poor CPU guy like me :þ\n"
     ]
    }
   ],
   "source": [
    "if torch.cuda.is_available():\n",
    "    tensor = tensor.to(\"cuda\")\n",
    "else:\n",
    "    print(\"You're a poor CPU guy like me :þ\")"
   ]
  },
  {
   "cell_type": "code",
   "execution_count": 16,
   "metadata": {},
   "outputs": [
    {
     "name": "stdout",
     "output_type": "stream",
     "text": [
      "tensor([[0.4942, 0.4344, 0.2940, 0.9807],\n",
      "        [0.0225, 0.2089, 0.7168, 0.9058],\n",
      "        [0.2143, 0.8950, 0.5594, 0.7579],\n",
      "        [0.1248, 0.0787, 0.8696, 0.0268]])\n",
      "\n",
      "First row: tensor([0.4942, 0.4344, 0.2940, 0.9807])\n",
      "Last row: tensor([0.1248, 0.0787, 0.8696, 0.0268])\n",
      "First col: tensor([0.4942, 0.0225, 0.2143, 0.1248])\n",
      "Last col: tensor([0.9807, 0.9058, 0.7579, 0.0268])\n",
      "Col 1 all 0s: tensor([[0.4942, 0.0000, 0.2940, 0.9807],\n",
      "        [0.0225, 0.0000, 0.7168, 0.9058],\n",
      "        [0.2143, 0.0000, 0.5594, 0.7579],\n",
      "        [0.1248, 0.0000, 0.8696, 0.0268]])\n"
     ]
    }
   ],
   "source": [
    "# Slicing and selecting\n",
    "\n",
    "tensor = torch.rand(4,4)\n",
    "print(tensor)\n",
    "print()\n",
    "\n",
    "print(\"First row:\",tensor[0])\n",
    "print(\"Last row:\", tensor[-1])\n",
    "print(\"First col:\",tensor[:,0])\n",
    "print(\"Last col:\",tensor[:,-1])\n",
    "\n",
    "tensor[:,1] = 0\n",
    "print(\"Col 1 all 0s:\",tensor)"
   ]
  },
  {
   "cell_type": "code",
   "execution_count": 22,
   "metadata": {},
   "outputs": [
    {
     "name": "stdout",
     "output_type": "stream",
     "text": [
      "tensor([[0.4942, 0.0000, 0.2940, 0.9807, 0.4942, 0.0000, 0.2940, 0.9807],\n",
      "        [0.0225, 0.0000, 0.7168, 0.9058, 0.0225, 0.0000, 0.7168, 0.9058],\n",
      "        [0.2143, 0.0000, 0.5594, 0.7579, 0.2143, 0.0000, 0.5594, 0.7579],\n",
      "        [0.1248, 0.0000, 0.8696, 0.0268, 0.1248, 0.0000, 0.8696, 0.0268]])\n",
      "\n",
      "tensor([[0.4942, 0.0000, 0.2940, 0.9807],\n",
      "        [0.0225, 0.0000, 0.7168, 0.9058],\n",
      "        [0.2143, 0.0000, 0.5594, 0.7579],\n",
      "        [0.1248, 0.0000, 0.8696, 0.0268],\n",
      "        [0.4942, 0.0000, 0.2940, 0.9807],\n",
      "        [0.0225, 0.0000, 0.7168, 0.9058],\n",
      "        [0.2143, 0.0000, 0.5594, 0.7579],\n",
      "        [0.1248, 0.0000, 0.8696, 0.0268]])\n"
     ]
    }
   ],
   "source": [
    "# Concatenate\n",
    "\n",
    "# Rows\n",
    "t1 = torch.cat([tensor, tensor], dim=1)\n",
    "print(t1)\n",
    "print()\n",
    "\n",
    "# Columns\n",
    "t2 = torch.cat([tensor, tensor])\n",
    "print(t2)"
   ]
  },
  {
   "cell_type": "code",
   "execution_count": 31,
   "metadata": {},
   "outputs": [
    {
     "name": "stdout",
     "output_type": "stream",
     "text": [
      "tensor([[1.2924, 1.1102, 1.0136, 0.3436],\n",
      "        [1.1102, 1.3348, 1.0923, 0.6505],\n",
      "        [1.0136, 1.0923, 0.9332, 0.5335],\n",
      "        [0.3436, 0.6505, 0.5335, 0.7725]])\n",
      "tensor([[1.2924, 1.1102, 1.0136, 0.3436],\n",
      "        [1.1102, 1.3348, 1.0923, 0.6505],\n",
      "        [1.0136, 1.0923, 0.9332, 0.5335],\n",
      "        [0.3436, 0.6505, 0.5335, 0.7725]])\n",
      "tensor([[1.2924, 1.1102, 1.0136, 0.3436],\n",
      "        [1.1102, 1.3348, 1.0923, 0.6505],\n",
      "        [1.0136, 1.0923, 0.9332, 0.5335],\n",
      "        [0.3436, 0.6505, 0.5335, 0.7725]])\n",
      "tensor([[True, True, True, True],\n",
      "        [True, True, True, True],\n",
      "        [True, True, True, True],\n",
      "        [True, True, True, True]])\n",
      "tensor([[True, True, True, True],\n",
      "        [True, True, True, True],\n",
      "        [True, True, True, True],\n",
      "        [True, True, True, True]])\n",
      "\n"
     ]
    }
   ],
   "source": [
    "# Arithmetic operations\n",
    "\n",
    "# Tensor like matrix product\n",
    "y1 = tensor @ tensor.T # T transpose\n",
    "y2 = tensor.matmul(tensor.T)\n",
    "y3 = torch.rand_like(y1)\n",
    "torch.matmul(tensor, tensor.T, out=y3)\n",
    "print(y1)\n",
    "print(y2)\n",
    "print(y3)\n",
    "print(y1==y2)\n",
    "print(y1==y3)\n",
    "print()"
   ]
  },
  {
   "cell_type": "code",
   "execution_count": 32,
   "metadata": {},
   "outputs": [
    {
     "name": "stdout",
     "output_type": "stream",
     "text": [
      "tensor([[2.4419e-01, 0.0000e+00, 8.6434e-02, 9.6181e-01],\n",
      "        [5.0514e-04, 0.0000e+00, 5.1387e-01, 8.2043e-01],\n",
      "        [4.5905e-02, 0.0000e+00, 3.1290e-01, 5.7441e-01],\n",
      "        [1.5565e-02, 0.0000e+00, 7.5622e-01, 7.1809e-04]])\n",
      "tensor([[2.4419e-01, 0.0000e+00, 8.6434e-02, 9.6181e-01],\n",
      "        [5.0514e-04, 0.0000e+00, 5.1387e-01, 8.2043e-01],\n",
      "        [4.5905e-02, 0.0000e+00, 3.1290e-01, 5.7441e-01],\n",
      "        [1.5565e-02, 0.0000e+00, 7.5622e-01, 7.1809e-04]])\n",
      "tensor([[2.4419e-01, 0.0000e+00, 8.6434e-02, 9.6181e-01],\n",
      "        [5.0514e-04, 0.0000e+00, 5.1387e-01, 8.2043e-01],\n",
      "        [4.5905e-02, 0.0000e+00, 3.1290e-01, 5.7441e-01],\n",
      "        [1.5565e-02, 0.0000e+00, 7.5622e-01, 7.1809e-04]])\n",
      "tensor([[True, True, True, True],\n",
      "        [True, True, True, True],\n",
      "        [True, True, True, True],\n",
      "        [True, True, True, True]])\n",
      "tensor([[True, True, True, True],\n",
      "        [True, True, True, True],\n",
      "        [True, True, True, True],\n",
      "        [True, True, True, True]])\n"
     ]
    }
   ],
   "source": [
    "# Tensor like element by element product.\n",
    "z1 = tensor * tensor\n",
    "z2 = tensor.mul(tensor)\n",
    "z3 = torch.rand_like(tensor)\n",
    "torch.mul(tensor, tensor, out=z3)\n",
    "print(z1)\n",
    "print(z2)\n",
    "print(z3)\n",
    "print(z1==z2)\n",
    "print(z1==z3)"
   ]
  },
  {
   "cell_type": "code",
   "execution_count": 35,
   "metadata": {},
   "outputs": [
    {
     "name": "stdout",
     "output_type": "stream",
     "text": [
      "tensor(5.9667) <class 'torch.Tensor'>\n",
      "5.966668605804443 <class 'float'>\n"
     ]
    }
   ],
   "source": [
    "# Single-element tensors\n",
    "agg = tensor.sum()\n",
    "print(agg, type(agg))\n",
    "agg_item = agg.item()\n",
    "print(agg_item, type(agg_item))"
   ]
  },
  {
   "cell_type": "code",
   "execution_count": 37,
   "metadata": {},
   "outputs": [
    {
     "name": "stdout",
     "output_type": "stream",
     "text": [
      "tensor([[0.4942, 0.0000, 0.2940, 0.9807],\n",
      "        [0.0225, 0.0000, 0.7168, 0.9058],\n",
      "        [0.2143, 0.0000, 0.5594, 0.7579],\n",
      "        [0.1248, 0.0000, 0.8696, 0.0268]])\n",
      "tensor([[13.4942, 13.0000, 13.2940, 13.9807],\n",
      "        [13.0225, 13.0000, 13.7168, 13.9058],\n",
      "        [13.2143, 13.0000, 13.5594, 13.7579],\n",
      "        [13.1248, 13.0000, 13.8696, 13.0268]])\n"
     ]
    }
   ],
   "source": [
    "# Simple arithmetic operation by element.\n",
    "print(tensor)\n",
    "tensor.add_(13)\n",
    "print(tensor)"
   ]
  },
  {
   "cell_type": "markdown",
   "metadata": {},
   "source": [
    "* Bridge with NumPy\n",
    "\n",
    "Tensors and NumPy can share the same space memory, i.e, if you modify the tensor the ndarray are going to be modified and viceversa."
   ]
  },
  {
   "cell_type": "code",
   "execution_count": 38,
   "metadata": {},
   "outputs": [
    {
     "name": "stdout",
     "output_type": "stream",
     "text": [
      "tensor([1., 1., 1., 1., 1.])\n",
      "[1. 1. 1. 1. 1.]\n",
      "\n",
      "tensor([2., 2., 2., 2., 2.])\n",
      "[2. 2. 2. 2. 2.]\n",
      "\n"
     ]
    }
   ],
   "source": [
    "t = torch.ones(5)\n",
    "n = t.numpy()\n",
    "print(t)\n",
    "print(n)\n",
    "print()\n",
    "\n",
    "t.add_(1)\n",
    "print(t)\n",
    "print(n)"
   ]
  },
  {
   "cell_type": "code",
   "execution_count": 39,
   "metadata": {},
   "outputs": [
    {
     "name": "stdout",
     "output_type": "stream",
     "text": [
      "tensor([1., 1., 1., 1., 1.], dtype=torch.float64)\n",
      "[1. 1. 1. 1. 1.]\n",
      "\n",
      "tensor([2., 2., 2., 2., 2.], dtype=torch.float64)\n",
      "[2. 2. 2. 2. 2.]\n"
     ]
    }
   ],
   "source": [
    "n = np.ones(5)\n",
    "t = torch.from_numpy(n)\n",
    "print(t)\n",
    "print(n)\n",
    "print()\n",
    "\n",
    "np.add(n, 1, out=n)\n",
    "print(t)\n",
    "print(n)"
   ]
  }
 ],
 "metadata": {
  "kernelspec": {
   "display_name": "dl",
   "language": "python",
   "name": "python3"
  },
  "language_info": {
   "codemirror_mode": {
    "name": "ipython",
    "version": 3
   },
   "file_extension": ".py",
   "mimetype": "text/x-python",
   "name": "python",
   "nbconvert_exporter": "python",
   "pygments_lexer": "ipython3",
   "version": "3.10.13"
  }
 },
 "nbformat": 4,
 "nbformat_minor": 2
}
